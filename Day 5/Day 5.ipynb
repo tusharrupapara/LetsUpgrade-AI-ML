{
 "cells": [
  {
   "cell_type": "markdown",
   "metadata": {},
   "source": [
    "# Write a Python program to find the first 20 non-even prime natural numbers.\n"
   ]
  },
  {
   "cell_type": "code",
   "execution_count": 9,
   "metadata": {},
   "outputs": [
    {
     "data": {
      "text/plain": [
       "[3, 5, 7, 11, 13, 17, 19, 23, 29, 31, 37, 41, 43, 47, 53, 59, 61, 67, 71, 73]"
      ]
     },
     "execution_count": 9,
     "metadata": {},
     "output_type": "execute_result"
    }
   ],
   "source": [
    ">>> def getprimes(x):\n",
    "\tprimes = []\n",
    "\t# Loop through 9999 possible prime numbers\n",
    "\tfor a in range(3, 10000):\n",
    "\t\t# Loop through every number it could divide by\n",
    "\t\tfor b in range(2, a):\n",
    "\t\t\t# Does b divide evenly into a ?\n",
    "\t\t\tif a % b == 0:\n",
    "\t\t\t\tbreak\n",
    "\t\t# Loop exited without breaking ? (It is prime)\n",
    "\t\telse:\n",
    "\t\t\t# Add the prime number to our list\n",
    "\t\t\tprimes.append(a)\n",
    "\t\t# We have enough to stop ?\n",
    "\t\tif len(primes) == x:\n",
    "\t\t\treturn primes\n",
    "\t\t\n",
    ">>> getprimes(20)"
   ]
  },
  {
   "cell_type": "markdown",
   "metadata": {},
   "source": [
    "# Write a Python program to implement 15 functions of string.\n"
   ]
  },
  {
   "cell_type": "code",
   "execution_count": 20,
   "metadata": {},
   "outputs": [
    {
     "name": "stdout",
     "output_type": "stream",
     "text": [
      "False\n",
      "False\n",
      "True\n",
      "False\n",
      "False\n",
      "False\n",
      "True\n",
      "False\n",
      "True\n",
      "False\n",
      "False\n",
      "False\n",
      "my name is khan\n",
      "My name is khan\n",
      "my name is khan\n"
     ]
    }
   ],
   "source": [
    "a=\"my name is khan\"\n",
    "\n",
    "print(str.isalnum(a))\n",
    "print(str.isalpha(a))\n",
    "print(str.isascii(a))\n",
    "print(str.isdecimal(a))\n",
    "print(str.isdigit(a))\n",
    "print(str.isidentifier(a))\n",
    "print(str.islower(a))\n",
    "print(str.isnumeric(a))\n",
    "print(str.isprintable(a))\n",
    "print(str.isspace(a))\n",
    "print(str.istitle(a))\n",
    "print(str.isupper(a))\n",
    "print(str.lower(a))\n",
    "print(str.capitalize(a))\n",
    "print(str.casefold(a))\n",
    "\n"
   ]
  },
  {
   "cell_type": "code",
   "execution_count": 27,
   "metadata": {},
   "outputs": [
    {
     "name": "stdout",
     "output_type": "stream",
     "text": [
      "tusharrupaparagmaicin\n"
     ]
    }
   ],
   "source": [
    "\n",
    "#Write a Python's user defined function that removes all the additional characters from the string and converts it finally to lower case using built-in lower(). \n",
    "\n",
    "a_string = \"Tushar rupapara @gmai,cin\"\n",
    "alphanumeric = \"\"\n",
    "\n",
    "\n",
    "for character in a_string:\n",
    "    if character.isalnum():\n",
    "        alphanumeric += character\n",
    "\n",
    "print(str.lower(alphanumeric))\n"
   ]
  },
  {
   "cell_type": "code",
   "execution_count": 29,
   "metadata": {},
   "outputs": [
    {
     "name": "stdout",
     "output_type": "stream",
     "text": [
      "The string is a palindrome.\n"
     ]
    }
   ],
   "source": [
    "# Program to check if a string is palindrome or not(Note anagram is not possible in the single string)\n",
    "\n",
    "my_str = 'aIbohPhoBiA'\n",
    "\n",
    "# make it suitable for caseless comparison\n",
    "my_str = my_str.casefold()\n",
    "\n",
    "# reverse the string\n",
    "rev_str = reversed(my_str)\n",
    "\n",
    "# check if the string is equal to its reverse\n",
    "if list(my_str) == list(rev_str):\n",
    "   print(\"The string is a palindrome.\")\n",
    "else:\n",
    "   print(\"The string is not a palindrome.\")"
   ]
  },
  {
   "cell_type": "code",
   "execution_count": null,
   "metadata": {},
   "outputs": [],
   "source": []
  }
 ],
 "metadata": {
  "kernelspec": {
   "display_name": "Python 3",
   "language": "python",
   "name": "python3"
  },
  "language_info": {
   "codemirror_mode": {
    "name": "ipython",
    "version": 3
   },
   "file_extension": ".py",
   "mimetype": "text/x-python",
   "name": "python",
   "nbconvert_exporter": "python",
   "pygments_lexer": "ipython3",
   "version": "3.7.6"
  }
 },
 "nbformat": 4,
 "nbformat_minor": 4
}
