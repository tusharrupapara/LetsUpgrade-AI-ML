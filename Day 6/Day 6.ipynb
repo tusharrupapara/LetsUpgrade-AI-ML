{
 "cells": [
  {
   "cell_type": "markdown",
   "metadata": {},
   "source": [
    "# Q1\n"
   ]
  },
  {
   "cell_type": "code",
   "execution_count": 19,
   "metadata": {},
   "outputs": [
    {
     "name": "stdout",
     "output_type": "stream",
     "text": [
      "prothious\n"
     ]
    }
   ],
   "source": [
    "#Q1\n",
    "email=\"shraddha@prothious.com\"\n",
    "Cname= email.split(\"@\")[1]\n",
    "Cname= Cname.split(\".\")[0]\n",
    "print(Cname)"
   ]
  },
  {
   "cell_type": "markdown",
   "metadata": {},
   "source": [
    "# Q2"
   ]
  },
  {
   "cell_type": "code",
   "execution_count": 9,
   "metadata": {},
   "outputs": [
    {
     "name": "stdout",
     "output_type": "stream",
     "text": [
      "enter data to sort shraddha,tusar,dhwani\n",
      "Sorted Data are dhwani,shraddha,tusar\n"
     ]
    }
   ],
   "source": [
    "sequence=[x for x in input(\"enter data to sort \").split(',')]\n",
    "sequence.sort()\n",
    "print(\"Sorted Data are\",','.join(sequence))"
   ]
  },
  {
   "cell_type": "code",
   "execution_count": 18,
   "metadata": {},
   "outputs": [
    {
     "name": "stdout",
     "output_type": "stream",
     "text": [
      "{'mango', 'strawbeery', 'apple', 'orange', 'banana'}\n",
      "mango\n",
      "strawbeery\n",
      "apple\n",
      "orange\n",
      "banana\n",
      "True\n",
      "False\n",
      "{'mango', 'blackbeery', 'strawbeery', 'apple', 'orange', 'banana'}\n",
      "7\n",
      "{'mango', 'blackbeery', 'strawbeery', 'apple', 'orange', 'banana'}\n",
      "{'mango', 'blackbeery', 'strawbeery', 'orange', 'banana'}\n",
      "mango\n",
      "set()\n",
      "{1, 2, 3, 'c', 'b', 'a'}\n",
      "{1, 2, 3, 'c', 'b', 'a'}\n"
     ]
    }
   ],
   "source": [
    "#Q3\n",
    "Set={\"apple\",\"banana\",\"strawbeery\",\"mango\",\"orange\"}\n",
    "print(Set)\n",
    "\n",
    "for x in Set:\n",
    "    print(x)\n",
    "    \n",
    "print(\"mango\" in Set)\n",
    "print(\"chiku\" in Set)\n",
    "\n",
    "Set.add(\"blackbeery\")\n",
    "print(Set)\n",
    "\n",
    "Set.update([\"apple\",\"banana\",\"strawbeery\",\"mango\",\"orange\",\"cherry\"])\n",
    "print(len(Set))\n",
    "\n",
    "Set.remove(\"cherry\")\n",
    "print(Set)\n",
    "Set.discard(\"apple\")\n",
    "print(Set)\n",
    "\n",
    "x=Set.pop()\n",
    "print(x)\n",
    "\n",
    "Set.clear()\n",
    "print(Set)\n",
    "\n",
    "del Set\n",
    "\n",
    "#print(Set)\n",
    "\n",
    "#union\n",
    "set1 = {\"a\", \"b\" , \"c\"}\n",
    "set2 = {1, 2, 3}\n",
    "\n",
    "set3 = set1.union(set2)\n",
    "print(set3)\n",
    "\n",
    "#update\n",
    "set1 = {\"a\", \"b\" , \"c\"}\n",
    "set2 = {1, 2, 3}\n",
    "\n",
    "set1.update(set2)\n",
    "print(set1)\n",
    "\n",
    "\n",
    "\n"
   ]
  },
  {
   "cell_type": "code",
   "execution_count": 11,
   "metadata": {},
   "outputs": [
    {
     "name": "stdout",
     "output_type": "stream",
     "text": [
      "5.0\n"
     ]
    }
   ],
   "source": [
    "#Q4\n",
    "A=[1,2,4,6,7,3,8]\n",
    "length=len(A)\n",
    "total=(length+1)*(length+2)/2\n",
    "sum_A=sum(A)\n",
    "missing_no=total-sum_A\n",
    "print(missing_no)"
   ]
  },
  {
   "cell_type": "code",
   "execution_count": null,
   "metadata": {},
   "outputs": [],
   "source": []
  },
  {
   "cell_type": "code",
   "execution_count": null,
   "metadata": {},
   "outputs": [],
   "source": []
  },
  {
   "cell_type": "code",
   "execution_count": null,
   "metadata": {},
   "outputs": [],
   "source": []
  },
  {
   "cell_type": "code",
   "execution_count": 12,
   "metadata": {},
   "outputs": [
    {
     "name": "stdout",
     "output_type": "stream",
     "text": [
      "[12, 24, 35, 88, 120, 155]\n"
     ]
    }
   ],
   "source": [
    "#Q5\n",
    "A=[12,24,35,24,88,120,155,88,120,155]\n",
    "A=list(dict.fromkeys(A))\n",
    "print(A)"
   ]
  },
  {
   "cell_type": "code",
   "execution_count": null,
   "metadata": {},
   "outputs": [],
   "source": []
  }
 ],
 "metadata": {
  "kernelspec": {
   "display_name": "Python 3",
   "language": "python",
   "name": "python3"
  },
  "language_info": {
   "codemirror_mode": {
    "name": "ipython",
    "version": 3
   },
   "file_extension": ".py",
   "mimetype": "text/x-python",
   "name": "python",
   "nbconvert_exporter": "python",
   "pygments_lexer": "ipython3",
   "version": "3.7.6"
  }
 },
 "nbformat": 4,
 "nbformat_minor": 4
}
