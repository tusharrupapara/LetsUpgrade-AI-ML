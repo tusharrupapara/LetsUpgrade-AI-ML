{
 "cells": [
  {
   "cell_type": "markdown",
   "metadata": {},
   "source": [
    "# Q1 Research on whether addition, subtraction, multiplication, division, floor division and modulo operations be performed on complex numbers. Based on your study, implement a Python program to demonstrate these \n"
   ]
  },
  {
   "cell_type": "code",
   "execution_count": 6,
   "metadata": {},
   "outputs": [
    {
     "name": "stdout",
     "output_type": "stream",
     "text": [
      "10\n",
      "(0.8823529411764706-0.5294117647058824j)\n",
      "(4+7j)\n",
      "(2-1j)\n",
      "(-9+15j)\n",
      "4.242640687119285\n"
     ]
    }
   ],
   "source": [
    "a=3+3j\n",
    "b=1+4j\n",
    "\n",
    "c=a/b\n",
    "d=a+b\n",
    "e=a-b\n",
    "f=a*b\n",
    "\n",
    "print(c)\n",
    "print(d)\n",
    "print(e)\n",
    "print(f)\n",
    "print(abs(a))\n",
    "\n"
   ]
  },
  {
   "cell_type": "markdown",
   "metadata": {},
   "source": [
    "# Research on range() functions and its parameters. Create a markdown cell and write in your own words (no copy-paste from google please) what you understand about it. Implement a small program of your choice on the same.\n",
    "\n",
    "Range function is use when we require many number or we need a list of number where we know the starting number and ending number\n",
    "\n",
    "range function has  array kind of functionality which is start from the 0th position So total position is ending number - 1\n",
    "\n",
    "Example if my range is range(6) then it will start from 0 and it will end at 1\n",
    "\n",
    "\n"
   ]
  },
  {
   "cell_type": "code",
   "execution_count": 15,
   "metadata": {},
   "outputs": [
    {
     "name": "stdout",
     "output_type": "stream",
     "text": [
      "0\n",
      "1\n",
      "2\n",
      "3\n",
      "4\n",
      "5\n"
     ]
    }
   ],
   "source": [
    "x = range(6)\n",
    "for n in x:\n",
    "  print(n)"
   ]
  },
  {
   "cell_type": "markdown",
   "metadata": {},
   "source": [
    "# Consider two numbers. Perform their subtraction and if the result of subtraction is greater than 25, print their multiplication result else print their division result.\n",
    "\n"
   ]
  },
  {
   "cell_type": "code",
   "execution_count": 3,
   "metadata": {},
   "outputs": [
    {
     "name": "stdout",
     "output_type": "stream",
     "text": [
      "1.1\n"
     ]
    }
   ],
   "source": [
    "a=99\n",
    "b=55\n",
    "\n",
    "c=a-b\n",
    "\n",
    "if(c>25):\n",
    "    print(a*b)\n",
    "else:\n",
    "    print(a/b)"
   ]
  },
  {
   "cell_type": "markdown",
   "metadata": {},
   "source": [
    "# Consider a list of 10 elements of integer values. If the number in the list is divisible by 2, print the result as \"square of that number minus 2\"."
   ]
  },
  {
   "cell_type": "code",
   "execution_count": 5,
   "metadata": {},
   "outputs": [
    {
     "name": "stdout",
     "output_type": "stream",
     "text": [
      "14\n",
      "34\n",
      "4354\n",
      "1022\n",
      "6082\n",
      "142\n"
     ]
    }
   ],
   "source": [
    "a=[1,3,4,6,66,32,45,78,97,12]\n",
    "\n",
    "for x in a:\n",
    "    if(x % 2 == 0):\n",
    "        print(x**2-2)\n"
   ]
  },
  {
   "cell_type": "markdown",
   "metadata": {},
   "source": [
    "# Consider a list of 10 elements. Print all the elements in the list which are greater than 7 when that number is divided 2."
   ]
  },
  {
   "cell_type": "code",
   "execution_count": 14,
   "metadata": {},
   "outputs": [
    {
     "name": "stdout",
     "output_type": "stream",
     "text": [
      "66\n",
      "32\n",
      "78\n"
     ]
    }
   ],
   "source": [
    "a=[1,3,4,6,66,32,45,78,97,12]\n",
    "for x in a:\n",
    "    if(x % 2 == 0):\n",
    "            if(int(x/2 >7)):\n",
    "                print(x)\n"
   ]
  },
  {
   "cell_type": "code",
   "execution_count": null,
   "metadata": {},
   "outputs": [],
   "source": []
  }
 ],
 "metadata": {
  "kernelspec": {
   "display_name": "Python 3",
   "language": "python",
   "name": "python3"
  },
  "language_info": {
   "codemirror_mode": {
    "name": "ipython",
    "version": 3
   },
   "file_extension": ".py",
   "mimetype": "text/x-python",
   "name": "python",
   "nbconvert_exporter": "python",
   "pygments_lexer": "ipython3",
   "version": "3.7.6"
  }
 },
 "nbformat": 4,
 "nbformat_minor": 4
}
